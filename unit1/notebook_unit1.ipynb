{
 "cells": [
  {
   "cell_type": "markdown",
   "metadata": {},
   "source": [
    "**Sustainable Software Development, block course, March 2021**  \n",
    "*Scientific Software Center, Institute for Scientific Computing, Dr. Inga Ulusoy*\n",
    "\n",
    "# Analysis of the data\n",
    "\n",
    "Imagine you perform a \"measurement\" of some type and obtain \"scientific data\". You know what your data represents, but you have only a vague idea how different features in the data are connected, and what information you can extract from the data.\n",
    "\n",
    "You would start first with going through the data, making sure your data set is complete and that the result is reasonable. Imagine this already happened.\n",
    "\n",
    "In the next step, you would inspect your data more closely and try to identify structures. That is the step that we are focusing on in this unit.\n",
    "\n",
    "In the `data` folder, you will find several data files (`*.t` and `*.dat`). These are data files generated through some \"new approach\" that hasn't been used in your lab before. No previous analysis software exists, and you are going to establish a protocol for this \"new approach\" and \"publish your results\".\n",
    "\n",
    "The data can be grouped into two categories: \n",
    "1. data to be analyzed using statistical methods;\n",
    "2. data to be analyzed using numerical methods.\n",
    "\n",
    "In your hypothetical lab, you are an \"expert\" in one particular \"method\", and your co-worker is an \"expert\" in the other. Combined these two methods will lead to much more impactful results than if only one of you analyzed the data. Now, the task in this course is to be solved collaboratively with your team member working on one of the analysis approaches, and you working on the other. You will both implement functionality into the same piece of \"software\", but do so collaboratively through git.\n",
    "\n",
    "As you do not know yet which analysis is most meaningful for your data, and how to implement it, you will start with a jupyter notebook. You and your team member will work on the same notebook that will be part of a github repository for your project. This is the task for today. Discuss with your team members who will work on the statistical and who on the numerical analysis."
   ]
  },
  {
   "cell_type": "markdown",
   "metadata": {},
   "source": [
    "## Step 1\n",
    "\n",
    "Generate a github repository with the relevant files."
   ]
  },
  {
   "cell_type": "markdown",
   "metadata": {},
   "source": [
    "## Step 2\n",
    "\n",
    "Clone the repository to your local machine."
   ]
  },
  {
   "cell_type": "markdown",
   "metadata": {},
   "source": [
    "## Step 3\n",
    "\n",
    "Start working on task 1 for your analysis approach. "
   ]
  },
  {
   "cell_type": "markdown",
   "metadata": {},
   "source": [
    "## Step 4\n",
    "\n",
    "Create your own branch of the repository and commit your changes to your branch; push to the remote repository."
   ]
  },
  {
   "cell_type": "markdown",
   "metadata": {},
   "source": [
    "## Step 5\n",
    "\n",
    "Open a `pull request` so your team member can review your implementation. Likewise, your team member will ask you to review theirs."
   ]
  },
  {
   "cell_type": "markdown",
   "metadata": {},
   "source": [
    "## Step 6\n",
    "\n",
    "Merge the changes in your branch into `main`. Resolve conflicts."
   ]
  },
  {
   "cell_type": "markdown",
   "metadata": {},
   "source": [
    "## Step 7\n",
    "\n",
    "Repeat working on task; committing and pushing to your previously generated branch or a new branch; open a pull request; merge with main; until you have finished all the tasks in your analysis approach. Delete obsolete branches."
   ]
  },
  {
   "cell_type": "markdown",
   "metadata": {},
   "source": [
    "# Start of the analysis notebook\n",
    "\n",
    "**Author : Massimiliano Christ, Anton Eberhardt**  \n",
    "*Date : 01.03.2022 \n",
    "*Affiliation : University of Heidelberg  \n",
    "\n",
    "Place the required modules in the top, followed by required constants and global functions."
   ]
  },
  {
   "cell_type": "code",
   "execution_count": null,
   "metadata": {},
   "outputs": [],
   "source": [
    "# required modules\n",
    "import numpy as np\n",
    "import pandas as pd\n",
    "import matplotlib.pyplot as plt\n",
    "import matplotlib as mpl\n",
    "import seaborn as sn"
   ]
  },
  {
   "cell_type": "code",
   "execution_count": null,
   "metadata": {},
   "outputs": [],
   "source": [
    "# params for default matplotlib style\n",
    "mpl.rcParams[\"figure.figsize\"] = [12.0, 8.0]\n",
    "mpl.rcParams[\"figure.dpi\"] = 200\n",
    "mpl.rcParams[\"savefig.dpi\"] = 300\n",
    "\n",
    "mpl.rcParams[\"font.size\"] = 12\n",
    "mpl.rcParams[\"legend.fontsize\"] = \"large\"\n",
    "mpl.rcParams[\"figure.titlesize\"] = \"medium\""
   ]
  },
  {
   "cell_type": "code",
   "execution_count": null,
   "metadata": {},
   "outputs": [],
   "source": [
    "# reading of the data files\n",
    "dfTable = pd.read_table(\n",
    "    \"../data/table.dat\", sep=\" \", engine=\"python\", skipinitialspace=True\n",
    ")\n",
    "dfEfield = pd.read_table(\n",
    "    \"../data/efield.t\", sep=\" \", engine=\"python\", skipinitialspace=True\n",
    ")\n",
    "dfExpec = pd.read_table(\n",
    "    \"../data/expec.t\", sep=\" \", engine=\"python\", skipinitialspace=True\n",
    ")\n",
    "dfNpop = pd.read_table(\n",
    "    \"../data/npop.t\", sep=\" \", engine=\"python\", skipinitialspace=True\n",
    ")\n",
    "dfNstate_i = pd.read_table(\n",
    "    \"../data/nstate_i.t\", sep=\" \", engine=\"python\", skipinitialspace=True\n",
    ")"
   ]
  },
  {
   "cell_type": "markdown",
   "metadata": {},
   "source": [
    "# Statistical analysis\n",
    "\n",
    "Find correlations in the data sets. Analyse the data statistically and plot your results.  \n",
    "\n",
    "Here we would want to do everything with pandas and leave the data in a dataframe. The files that are relevant to you are `expect.t`, `npop.t` and `table.dat`."
   ]
  },
  {
   "cell_type": "markdown",
   "metadata": {},
   "source": [
    "### Task 1: Read in expec.t and plot relevant data"
   ]
  },
  {
   "cell_type": "code",
   "execution_count": null,
   "metadata": {},
   "outputs": [],
   "source": [
    "# read and plot expec.panda\n",
    "dfExpec.plot(\n",
    "    x=\"time\",\n",
    "    subplots=True,\n",
    "    figsize=(12, 15),\n",
    "    ylabel=\"[A.U.]\",\n",
    "    title=[\n",
    "        \"Norm against time\",\n",
    "        \"<x> against time\",\n",
    "        \"<y> against time\",\n",
    "        \"<z> against time\",\n",
    "        \"H field against time\",\n",
    "    ],\n",
    ")"
   ]
  },
  {
   "cell_type": "markdown",
   "metadata": {},
   "source": [
    "We can discard the entries norm, \\<x>, and \\<y> as these are mostly constant."
   ]
  },
  {
   "cell_type": "code",
   "execution_count": null,
   "metadata": {},
   "outputs": [],
   "source": [
    "# eliminate columns based on the variance: if the variance of the values\n",
    "# in a column is below a given threshold, that column is discarded\n",
    "def eliminate_columns_variance(dataFrame, threshold):\n",
    "    \"\"\"deletes columns in a given data frame where the variance of the columns is below a\n",
    "    given threshold\"\"\"\n",
    "    output = dataFrame.copy()\n",
    "    for columnName in output:\n",
    "        variance = np.var(output[columnName])\n",
    "        if variance < threshold:\n",
    "            del output[columnName]\n",
    "    return output"
   ]
  },
  {
   "cell_type": "code",
   "execution_count": null,
   "metadata": {},
   "outputs": [],
   "source": [
    "cleanedExpecDF = eliminate_columns_variance(dfExpec, 1e-20)\n",
    "cleanedNpopDF = eliminate_columns_variance(dfNpop, 1e-5)\n",
    "cleanedTableDF = eliminate_columns_variance(dfTable, 1e-10)"
   ]
  },
  {
   "cell_type": "markdown",
   "metadata": {},
   "source": [
    "### Task 2: Create plots of the relevant data and save as .pdf."
   ]
  },
  {
   "cell_type": "code",
   "execution_count": null,
   "metadata": {},
   "outputs": [],
   "source": [
    "# create plots\n",
    "plt.figure(figsize=(12, 14))\n",
    "plt.subplot(2, 1, 1)\n",
    "plt.plot(cleanedExpecDF[\"time\"], cleanedExpecDF[\"<z>\"])\n",
    "plt.title(\"Plotting the z-axis against time\")\n",
    "plt.xlabel(\"time [s]\", fontsize=12)\n",
    "plt.ylabel(\"<z> [A.U.]\", fontsize=12)\n",
    "plt.legend()\n",
    "plt.savefig(\"z-axis_expected.pdf\", format=\"pdf\")\n",
    "\n",
    "plt.subplot(2, 1, 2)\n",
    "plt.plot(cleanedExpecDF[\"time\"], cleanedExpecDF[\"<H>\"])\n",
    "plt.title(\"Plotting the <H> against time\")\n",
    "plt.xlabel(\"time [s]\", fontsize=12)\n",
    "plt.ylabel(\"<H> [A.U.]\", fontsize=12)\n",
    "plt.legend()\n",
    "plt.savefig(\"z-axis_expected.pdf\", format=\"pdf\", dpi=300)"
   ]
  },
  {
   "cell_type": "markdown",
   "metadata": {},
   "source": [
    "### Task 3: Read in file `npop.t` and analyze correlations in the data"
   ]
  },
  {
   "cell_type": "code",
   "execution_count": null,
   "metadata": {},
   "outputs": [],
   "source": [
    "# plotting with seaborn\n",
    "sn.lineplot(x=\"time\", y=\"value\", hue=\"variable\", data=pd.melt(cleanedNpopDF, [\"time\"]))\n",
    "plt.title(\"Plotting the Npop table\")\n",
    "plt.xlabel(\"time [s]\")\n",
    "plt.ylabel(\"value [A.U.]\")\n",
    "plt.show()"
   ]
  },
  {
   "cell_type": "markdown",
   "metadata": {},
   "source": [
    "Plot the remaining columns. Seaborn prefers \"long format\" (one column for all measurement values, one column to indicate the type) as input, whereas the cvs is in \"wide format\" (one column per measurement type)."
   ]
  },
  {
   "cell_type": "markdown",
   "metadata": {},
   "source": [
    "## Quantify the pairwise correlation in the data\n",
    "\n",
    "- negative correlation: y values decrease for increasing x - large values of one feature correspond to small values of the other feature\n",
    "- weak or no correlation: no trend observable, association between two features is hardly observable\n",
    "- positive correlation: y values increase for decreasing x - small values of one feature correspond to small values of the other feature\n",
    "\n",
    "Remember that correlation does not indicate causation - the reason that two features are associated can lie in their dependence on same factors.\n",
    "\n",
    "Correlate the value pairs using Pearson's $r$. Pearson's $r$ is a measure of the linear relationship between features:\n",
    "\n",
    "$r = \\frac{\\sum_i(x_i − \\bar{x})(y_i − \\bar{y})}{\\sqrt{\\sum_i(x_i − \\bar{x})^2 \\sum_i(y_i − \\bar{y})^2}}$\n",
    "\n",
    "Here, $\\bar{x}$ and $\\bar{y}$ indicate mean values. $i$ runs over the whole data set. For a positive correlation, $r$ is positive, and negative for a negative correlation, with minimum and maximum values of -1 and 1, indicating a perfectly linear relationship. Weakly or not correlated features are characterized by $r$-values close to 0.\n",
    "\n",
    "Other measures of correlation that can be used are Spearman's rank (value pairs follow monotonic function) or Kendall's $\\tau$ (measures ordinal association), but they do not apply here. You can also define measures yourself."
   ]
  },
  {
   "cell_type": "code",
   "execution_count": null,
   "metadata": {},
   "outputs": [],
   "source": [
    "# print the correlation matrix"
   ]
  },
  {
   "cell_type": "markdown",
   "metadata": {},
   "source": [
    "The diagonal values tell us that each value is perfectly correlated with itself. We are not interested in the diagonal values and also not in the correlation with time. We also need to get rid of redundant entries. Finally, we need to find the value pairs that exhibit the highest linear correlation. We still want to know if it is positive or negative correlation, so we cannot get rid of the sign."
   ]
  },
  {
   "cell_type": "code",
   "execution_count": null,
   "metadata": {},
   "outputs": [],
   "source": [
    "# get rid of time column, lower triangular and diagonal entries of the correlation matrix\n",
    "# sort the remaing values according to their absolute value, but keep the sign"
   ]
  },
  {
   "cell_type": "markdown",
   "metadata": {},
   "source": [
    "Note that the entries in the left column are not repeated if they do not change from the row above (so the fourth feature pair is MO3 and MO6)."
   ]
  },
  {
   "cell_type": "markdown",
   "metadata": {},
   "source": [
    "### Task 4: Print the resulting data to a file"
   ]
  },
  {
   "cell_type": "code",
   "execution_count": null,
   "metadata": {},
   "outputs": [],
   "source": [
    "# write to file"
   ]
  },
  {
   "cell_type": "markdown",
   "metadata": {},
   "source": [
    "### Task 5: Calculate the Euclidean distance (L2 norm) for the vectors in `table.dat`\n",
    "\n",
    "\n",
    "The Euclidean distance measures the distance between to objects that are not points:\n",
    "\n",
    "$d(p,q) = \\sqrt{\\left(p-q\\right)^2}$\n",
    "\n",
    "In this case, consider each of the columns in table.dat as a vector in Euclidean space, where column $r(x)$ and column $v(x)$ denote a pair of vectors that should be compared, as well as $r(y)$ and $v(y)$, and r(z) and v(z).\n",
    "\n",
    "(Background: These are dipole moment components in different gauges, the length and velocity gauge.)"
   ]
  },
  {
   "cell_type": "code",
   "execution_count": null,
   "metadata": {},
   "outputs": [],
   "source": [
    "# read in table.dat - I suggest reading it as a numpy array\n",
    "# replace the NaNs by zero"
   ]
  },
  {
   "cell_type": "markdown",
   "metadata": {},
   "source": [
    "Now calculate how different the vectors in column 2 are from column 3, column 4 from column 5, and column 6 from column 7."
   ]
  },
  {
   "cell_type": "code",
   "execution_count": null,
   "metadata": {},
   "outputs": [],
   "source": [
    "# calculate the Euclidean distance"
   ]
  },
  {
   "cell_type": "code",
   "execution_count": null,
   "metadata": {},
   "outputs": [],
   "source": [
    "# plot the result and save to a .pdf"
   ]
  },
  {
   "cell_type": "code",
   "execution_count": null,
   "metadata": {},
   "outputs": [],
   "source": [
    "# print the result to a file"
   ]
  },
  {
   "cell_type": "markdown",
   "metadata": {},
   "source": [
    "# Numerical analysis\n",
    "\n",
    "Analyze the data using autocorrelation functions and discrete Fourier transforms. Plot your results."
   ]
  },
  {
   "cell_type": "code",
   "execution_count": null,
   "metadata": {},
   "outputs": [],
   "source": [
    "# define some global functions"
   ]
  },
  {
   "cell_type": "markdown",
   "metadata": {},
   "source": [
    "### Task 1: Read in `efield.t` and Fourier-transform relevant columns"
   ]
  },
  {
   "cell_type": "code",
   "execution_count": null,
   "metadata": {},
   "outputs": [],
   "source": [
    "def df_filter_constant(Dataframe, Ignore, VarThreshold=0):\n",
    "    \"\"\"Find and remove columns which do not have a variance bigger\n",
    "    than the given threshold.\n",
    "    :param Dataframe: Dataframe to be scanned fro constant columns.\n",
    "    :type Dataframe: pandas Dataframe\n",
    "\n",
    "    :param Ignore: List of columns to be ignored,\n",
    "    columns will end up in returned dataframe regardless of variance.\n",
    "    :type Ignore: array-like\n",
    "\n",
    "    :param Varthreshold: All columns with less or equal this variance will not\n",
    "    end up in returned data frame. Default is 0, so only constant columns will be discarded\n",
    "    :type Varthreshold: float\n",
    "\n",
    "    :raises KeyError: Raises error, when Ignore contains keywords that Dataframe does not contain\n",
    "\n",
    "    :return: Copy of Dataframe, where all columns with variance less than given treshold are discarded\n",
    "    :rtype: pandas.Dataframe\n",
    "    \"\"\"\n",
    "\n",
    "    NewDf = Dataframe\n",
    "\n",
    "    for key in Ignore:\n",
    "        try:\n",
    "            NewDf[key]\n",
    "\n",
    "        except KeyError as e:\n",
    "            print(e, \"Column to be ignored not found in dataframe\")\n",
    "\n",
    "    for key in Dataframe.columns.values:\n",
    "\n",
    "        if key in Ignore:\n",
    "            continue\n",
    "\n",
    "        if np.var(NewDf[key]) <= VarThreshold:\n",
    "            NewDf = NewDf.drop(key, axis=1)\n",
    "\n",
    "    return NewDf\n",
    "\n",
    "\n",
    "def plot_relevant_columns(Dataframe, xAxis, figsize=(14, 10), VarTreshold=0):\n",
    "\n",
    "    \"\"\"Plot columns with Variance bigger than the given threshold.\n",
    "\n",
    "    :param Dataframe: Dataframe to be plotted.\n",
    "    :type Dataframe: pandas Dataframe\n",
    "\n",
    "    :param xAxis: column to be used for the xAxis of the plots\n",
    "    :type xAxis: Key for dataframe (most likely string)\n",
    "\n",
    "    :param Varthreshold: All columns with less or equal this variance will not\n",
    "    end up in returned data frame. Default is 0, so only constant columns will be discarded\n",
    "    :type Varthreshold: float\n",
    "\n",
    "    :param figsize: Size of figure\n",
    "    :type figsize: tuple\n",
    "\n",
    "    :return: None\n",
    "    :rtype: None\n",
    "    \"\"\"\n",
    "    try:\n",
    "        NewDF = df_filter_constant(Dataframe, [xAxis], VarThreshold=VarTreshold)\n",
    "    except KeyError as e:\n",
    "        print(e, \"Specified x-axis not found in dataframe\")\n",
    "\n",
    "    NewDF.plot(x=xAxis, subplots=True, figsize=figsize)"
   ]
  },
  {
   "cell_type": "code",
   "execution_count": null,
   "metadata": {},
   "outputs": [],
   "source": [
    "data = {\"time\": np.arange(5), \"one\": np.ones(5), \"zero\": np.zeros(5)}\n",
    "\n",
    "testDf = pd.DataFrame(data)\n",
    "\n",
    "print(df_filter_constant(testDf, [\"zero\"], VarThreshold=0))"
   ]
  },
  {
   "cell_type": "code",
   "execution_count": null,
   "metadata": {},
   "outputs": [],
   "source": [
    "# read and plot efield.t\n",
    "\n",
    "test = df_filter_constant(dfEfield, [\"time\"], VarThreshold=0.0001)\n",
    "\n",
    "plot_relevant_columns(dfEfield, \"time\", figsize=(14, 10), VarTreshold=0)"
   ]
  },
  {
   "cell_type": "markdown",
   "metadata": {},
   "source": [
    "Only y-values have any variance, so we fourier-transform/plot only this."
   ]
  },
  {
   "cell_type": "code",
   "execution_count": null,
   "metadata": {},
   "outputs": [],
   "source": [
    "efield_y_fft = np.fft.fft(dfEfield[\"y\"])\n",
    "\n",
    "plt.figure(figsize=(14, 7))\n",
    "\n",
    "plt.subplot(121)\n",
    "plt.plot(dfEfield[\"time\"], dfEfield[\"y\"])\n",
    "plt.xlabel(\"Time [s]\")\n",
    "plt.ylabel(\"Amplitude\")\n",
    "\n",
    "plt.subplot(122)\n",
    "plt.scatter(dfEfield[\"time\"], np.real(efield_y_fft))\n",
    "plt.xlabel(\"Frequencies [Hz]\")\n",
    "\n",
    "plt.show()"
   ]
  },
  {
   "cell_type": "markdown",
   "metadata": {},
   "source": [
    "Here we are interested in column 2 since the others are constant."
   ]
  },
  {
   "cell_type": "code",
   "execution_count": null,
   "metadata": {},
   "outputs": [],
   "source": [
    "# discrete Fourier transform of the remaining column: You only need the real frequencies"
   ]
  },
  {
   "cell_type": "markdown",
   "metadata": {},
   "source": [
    "### Task 2: Generate a plot of your results to be saved as pdf."
   ]
  },
  {
   "cell_type": "code",
   "execution_count": null,
   "metadata": {},
   "outputs": [],
   "source": [
    "# plot your results"
   ]
  },
  {
   "cell_type": "markdown",
   "metadata": {},
   "source": [
    "### Task 3: Calculate the autocorrelation function from nstate_i.t\n",
    "The autocorrelation function measures how correlated subsequent vectors are with an initial vector; ie. \n",
    "\n",
    "$\\Psi_{corr} = \\langle \\Psi(t=0) | \\Psi(t) \\rangle = \\int_0^{tfin} \\Psi(0)^* \\Psi(t) dt$\n",
    "\n",
    "Since we are in a numerical representation, the integral can be replaced with a sum; and the given vectors are already normalized."
   ]
  },
  {
   "cell_type": "code",
   "execution_count": null,
   "metadata": {},
   "outputs": [],
   "source": [
    "# read in as numpy array\n",
    "\n",
    "dfNstate_i = pd.read_table(\n",
    "    \"../data/nstate_i.t\",\n",
    "    sep=\"   \",\n",
    "    engine=\"python\",\n",
    "    skipinitialspace=True,\n",
    "    skiprows=1,\n",
    "    header=None,\n",
    ")\n",
    "\n",
    "newDf = pd.DataFrame([])\n",
    "\n",
    "for key in dfNstate_i.columns.values:\n",
    "\n",
    "    if key % 2 == 0:  # skip first row and all imaginary rows\n",
    "        continue\n",
    "\n",
    "    newCol = dfNstate_i[key].to_numpy() + 1j * dfNstate_i[key + 1].to_numpy()\n",
    "\n",
    "    if key == 1:\n",
    "        newDf = pd.DataFrame({\"Vectorcomponent \" + str(int((key - 1) / 2)): newCol})\n",
    "\n",
    "    else:\n",
    "        newDf[\"Vectorcomponent \" + str(int((key - 1) / 2))] = newCol\n",
    "\n",
    "newDf[\"time\"] = dfNstate_i[0]\n",
    "\n",
    "\n",
    "def autocorrelation(Dataframe, Ignore):\n",
    "\n",
    "    for key in Ignore:\n",
    "        newDf = Dataframe.drop(key, axis=1)\n",
    "\n",
    "    vec0 = newDf.loc[0, :].to_numpy()\n",
    "\n",
    "    result = np.zeros(newDf.shape, dtype=complex)\n",
    "\n",
    "    for i in range(newDf.shape[0]):\n",
    "\n",
    "        j = 0\n",
    "\n",
    "        while j <= i:\n",
    "            result[i, :] += np.conj(vec0) * newDf.loc[j, :].to_numpy()\n",
    "            j += 1\n",
    "\n",
    "    return result\n",
    "\n",
    "\n",
    "final_result = autocorrelation(newDf, [\"time\"])"
   ]
  },
  {
   "cell_type": "code",
   "execution_count": null,
   "metadata": {},
   "outputs": [],
   "source": [
    "# correct the data representation: this is in fact a complex matrix\n",
    "# the real part of each matrix column is contained in numpy array column 0, 2, 4, 6, ...\n",
    "# the imaginary part of each matrix column is contained in numpy array column 1, 3, 5, 7, ...\n",
    "# convert the array that was read as dtype=float into a dtype=complex array"
   ]
  },
  {
   "cell_type": "code",
   "execution_count": null,
   "metadata": {},
   "outputs": [],
   "source": [
    "# for the autocorrelation function, we want the overlap between the first vector at time 0 and all\n",
    "# subsequent vectors at later times - the sum of the product of initial and subsequent vectors for each time step"
   ]
  },
  {
   "cell_type": "markdown",
   "metadata": {},
   "source": [
    "### Task 4: Generate a plot of your results to be saved as pdf."
   ]
  },
  {
   "cell_type": "code",
   "execution_count": null,
   "metadata": {},
   "outputs": [],
   "source": [
    "# plot the autocorrelation function - real, imaginary and absolute part\n",
    "\n",
    "plt.figure(figsize=(10, 10))\n",
    "\n",
    "plt.plot(np.arange(240), np.real(final_result[-1, :]), c=\"blue\", label=\"real part\")\n",
    "plt.plot(np.arange(240), np.imag(final_result[-1, :]), c=\"red\", label=\"imaginary part\")\n",
    "plt.plot(np.arange(240), np.abs(final_result[-1, :]), c=\"orange\", label=\"abs\")\n",
    "\n",
    "plt.xlabel(\"vectorcomponent n\")\n",
    "plt.legend()\n",
    "\n",
    "plt.show()"
   ]
  },
  {
   "cell_type": "markdown",
   "metadata": {},
   "source": [
    "### Task 5: Discrete Fourier transform of the autocorrelation function"
   ]
  },
  {
   "cell_type": "code",
   "execution_count": null,
   "metadata": {},
   "outputs": [],
   "source": [
    "# discrete Fourier-transform the autocorrelation function - now we need all frequency components,\n",
    "# also the negative ones"
   ]
  },
  {
   "cell_type": "markdown",
   "metadata": {},
   "source": [
    "### Task 6: Generate a plot of your results to be saved as pdf."
   ]
  },
  {
   "cell_type": "code",
   "execution_count": null,
   "metadata": {},
   "outputs": [],
   "source": [
    "# plot the power spectrum (abs**2)"
   ]
  }
 ],
 "metadata": {
  "kernelspec": {
   "display_name": "Python 3",
   "language": "python",
   "name": "python3"
  },
  "language_info": {
   "codemirror_mode": {
    "name": "ipython",
    "version": 3
   },
   "file_extension": ".py",
   "mimetype": "text/x-python",
   "name": "python",
   "nbconvert_exporter": "python",
   "pygments_lexer": "ipython3",
   "version": "3.8.8"
  }
 },
 "nbformat": 4,
 "nbformat_minor": 4
}
